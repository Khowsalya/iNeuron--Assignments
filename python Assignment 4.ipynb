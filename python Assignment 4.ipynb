{
 "cells": [
  {
   "cell_type": "markdown",
   "metadata": {},
   "source": [
    "#### Question 1.1 \n",
    "        Write a Python Program(with class concepts) to find the area of the triangle using the below\n",
    "        formula.\n",
    "        \n",
    "        area = (s*(s-a)*(s-b)*(s-c)) ** 0.5\n",
    "        \n",
    "        Function to take the length of the sides of triangle from user should be defined in the parent\n",
    "        class and function to calculate the area should be defined in subclass."
   ]
  },
  {
   "cell_type": "markdown",
   "metadata": {},
   "source": [
    "Solution:"
   ]
  },
  {
   "cell_type": "code",
   "execution_count": 1,
   "metadata": {},
   "outputs": [
    {
     "name": "stdout",
     "output_type": "stream",
     "text": [
      "Please Enter the First side of a Triangle: 6\n",
      "Please Enter the Second side of a Triangle: 7\n",
      "Please Enter the Third side of a Triangle: 8\n",
      "area : 20.33316256758894\n"
     ]
    }
   ],
   "source": [
    "class Sides_of_Triangle:\n",
    "    def __init__(self):\n",
    "        self.a=float(input('Please Enter the First side of a Triangle: '))\n",
    "        self.b=float(input('Please Enter the Second side of a Triangle: '))\n",
    "        self.c=float(input('Please Enter the Third side of a Triangle: '))\n",
    "      \n",
    "    \n",
    "        \n",
    "class triangle(Sides_of_Triangle):\n",
    "    def get_area(self):\n",
    "        s = (self.a+self.b+self.c)/2\n",
    "        area = (s*(s-self.a)*(s-self.b)*(s-self.c))**0.5\n",
    "        return area\n",
    "            \n",
    "t=triangle()\n",
    "print(f\"area : {t.get_area()}\")"
   ]
  },
  {
   "cell_type": "markdown",
   "metadata": {},
   "source": [
    "#### Question 1.2 \n",
    "        Write a function filter_long_words() that takes a list of words and an integer n and returns\n",
    "        the list of words that are longer than n."
   ]
  },
  {
   "cell_type": "markdown",
   "metadata": {},
   "source": [
    "Solution:"
   ]
  },
  {
   "cell_type": "code",
   "execution_count": 2,
   "metadata": {},
   "outputs": [
    {
     "name": "stdout",
     "output_type": "stream",
     "text": [
      "['iNeuron', 'iNtelligence', 'For Better Tomorrow']\n"
     ]
    }
   ],
   "source": [
    "def filter_long_words(list_of_words,n):\n",
    "       print([i for i in list_of_words if len(i)>n])\n",
    "\n",
    "a=filter_long_words(['iNeuron','iNtelligence','For Better Tomorrow','Data','Oil','future'],6)"
   ]
  },
  {
   "cell_type": "markdown",
   "metadata": {},
   "source": [
    "#### Question 2.1 \n",
    "        Write a Python program using function concept that maps list of words into a list of integers\n",
    "        representing the lengths of the corresponding words.\n",
    "        \n",
    "        Hint: If a list [ ab,cde,erty] is passed on to the python function output should come as [2,3,4]\n",
    "        Here 2,3 and 4 are the lengths of the words in the list."
   ]
  },
  {
   "cell_type": "markdown",
   "metadata": {},
   "source": [
    "Solution:"
   ]
  },
  {
   "cell_type": "code",
   "execution_count": 3,
   "metadata": {},
   "outputs": [
    {
     "name": "stdout",
     "output_type": "stream",
     "text": [
      "[7, 12, 19]\n"
     ]
    }
   ],
   "source": [
    "def length_of_words(l):\n",
    "    print([len(i) for i in l])\n",
    "length_of_words(['iNeuron', 'iNtelligence', 'For Better Tomorrow'])"
   ]
  },
  {
   "cell_type": "markdown",
   "metadata": {},
   "source": [
    "#### Question 2.2 \n",
    "        Write a Python function which takes a character (i.e. a string of length 1) and returns True if\n",
    "        it is a vowel, False otherwise."
   ]
  },
  {
   "cell_type": "code",
   "execution_count": 4,
   "metadata": {},
   "outputs": [
    {
     "name": "stdout",
     "output_type": "stream",
     "text": [
      "True\n",
      "True\n",
      "False\n",
      "False\n"
     ]
    }
   ],
   "source": [
    "def vowel(char):\n",
    "    if char in \"aeiou\" or char in \"AEIOU\":\n",
    "        print(True)\n",
    "    else:\n",
    "        print(False)\n",
    "        \n",
    "vowel(\"a\")\n",
    "vowel(\"u\")\n",
    "vowel(\"s\")\n",
    "vowel(\"z\")"
   ]
  },
  {
   "cell_type": "code",
   "execution_count": null,
   "metadata": {},
   "outputs": [],
   "source": []
  },
  {
   "cell_type": "code",
   "execution_count": null,
   "metadata": {},
   "outputs": [],
   "source": []
  }
 ],
 "metadata": {
  "kernelspec": {
   "display_name": "Python 3",
   "language": "python",
   "name": "python3"
  },
  "language_info": {
   "codemirror_mode": {
    "name": "ipython",
    "version": 3
   },
   "file_extension": ".py",
   "mimetype": "text/x-python",
   "name": "python",
   "nbconvert_exporter": "python",
   "pygments_lexer": "ipython3",
   "version": "3.7.4"
  }
 },
 "nbformat": 4,
 "nbformat_minor": 2
}
