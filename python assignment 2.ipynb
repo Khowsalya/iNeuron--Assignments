{
 "cells": [
  {
   "cell_type": "markdown",
   "metadata": {},
   "source": [
    "#### Question 1. Create the below pattern using nested for loop in Python.\n",
    "            *\n",
    "            * *\n",
    "            * * *\n",
    "            * * * *\n",
    "            * * * * *\n",
    "            * * * *\n",
    "            * * *\n",
    "            * *\n",
    "            *\n"
   ]
  },
  {
   "cell_type": "markdown",
   "metadata": {},
   "source": [
    "Solution:"
   ]
  },
  {
   "cell_type": "code",
   "execution_count": 1,
   "metadata": {},
   "outputs": [
    {
     "name": "stdout",
     "output_type": "stream",
     "text": [
      "*          \n",
      "* *        \n",
      "* * *      \n",
      "* * * *    \n",
      "* * * * *  \n",
      "* * * *    \n",
      "* * *      \n",
      "* *        \n",
      "*          \n"
     ]
    }
   ],
   "source": [
    "a=1\n",
    "b=5\n",
    "for i in range(1,10):\n",
    "    if i<5:\n",
    "        print(*(\"*\"*a+\" \"*b))\n",
    "        a +=1\n",
    "        b -=1\n",
    "    else:\n",
    "        print(*(\"*\"*a+\" \"*b))\n",
    "        a -=1\n",
    "        b +=1\n"
   ]
  },
  {
   "cell_type": "markdown",
   "metadata": {},
   "source": [
    "#### Question 2. Write a Python program to reverse a word after accepting the input from the user.\n",
    "            \n",
    "            Sample Output:\n",
    "            Input word: ineuron\n",
    "            Output:norueni"
   ]
  },
  {
   "cell_type": "code",
   "execution_count": 2,
   "metadata": {},
   "outputs": [
    {
     "name": "stdout",
     "output_type": "stream",
     "text": [
      "2\n",
      "ineuron\n",
      "norueni\n",
      "\n",
      "iNtelligence\n",
      "ecnegilletNi\n",
      "\n"
     ]
    }
   ],
   "source": [
    "def reverse(n):\n",
    "    return n[::-1]\n",
    "    \n",
    "n=int(input())\n",
    "for i in range(n):\n",
    "    l=input()\n",
    "    print(reverse(l))\n",
    "    print()"
   ]
  }
 ],
 "metadata": {
  "kernelspec": {
   "display_name": "Python 3",
   "language": "python",
   "name": "python3"
  },
  "language_info": {
   "codemirror_mode": {
    "name": "ipython",
    "version": 3
   },
   "file_extension": ".py",
   "mimetype": "text/x-python",
   "name": "python",
   "nbconvert_exporter": "python",
   "pygments_lexer": "ipython3",
   "version": "3.7.4"
  }
 },
 "nbformat": 4,
 "nbformat_minor": 2
}
